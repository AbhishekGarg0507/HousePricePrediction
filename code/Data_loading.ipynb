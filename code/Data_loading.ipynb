{
 "cells": [
  {
   "cell_type": "code",
   "execution_count": 1,
   "id": "a94f1ea4-716a-44d2-8dd2-996c82c0bb90",
   "metadata": {},
   "outputs": [],
   "source": [
    "import pandas as pd\n",
    "import numpy as np\n",
    "from sklearn.preprocessing import MultiLabelBinarizer"
   ]
  },
  {
   "cell_type": "code",
   "execution_count": 2,
   "id": "ddeae188-739a-4fb7-8927-bc86d6b97dda",
   "metadata": {},
   "outputs": [
    {
     "data": {
      "text/html": [
       "<div>\n",
       "<style scoped>\n",
       "    .dataframe tbody tr th:only-of-type {\n",
       "        vertical-align: middle;\n",
       "    }\n",
       "\n",
       "    .dataframe tbody tr th {\n",
       "        vertical-align: top;\n",
       "    }\n",
       "\n",
       "    .dataframe thead th {\n",
       "        text-align: right;\n",
       "    }\n",
       "</style>\n",
       "<table border=\"1\" class=\"dataframe\">\n",
       "  <thead>\n",
       "    <tr style=\"text-align: right;\">\n",
       "      <th></th>\n",
       "      <th>url</th>\n",
       "      <th>energy</th>\n",
       "      <th>heating</th>\n",
       "      <th>price</th>\n",
       "      <th>area</th>\n",
       "      <th>rooms</th>\n",
       "      <th>fee</th>\n",
       "      <th>zipcode</th>\n",
       "      <th>construction_year</th>\n",
       "      <th>level</th>\n",
       "      <th>price_per_area</th>\n",
       "    </tr>\n",
       "  </thead>\n",
       "  <tbody>\n",
       "    <tr>\n",
       "      <th>0</th>\n",
       "      <td>https://www.immowelt.de/expose/29fhx5b</td>\n",
       "      <td>Öl</td>\n",
       "      <td>Zentralheizung</td>\n",
       "      <td>249000.0</td>\n",
       "      <td>64.00</td>\n",
       "      <td>3.0</td>\n",
       "      <td>3.57</td>\n",
       "      <td>13505.0</td>\n",
       "      <td>1971.0</td>\n",
       "      <td>2.0</td>\n",
       "      <td>3890.625000</td>\n",
       "    </tr>\n",
       "    <tr>\n",
       "      <th>1</th>\n",
       "      <td>https://www.immowelt.de/expose/29hzk5u</td>\n",
       "      <td>Gas</td>\n",
       "      <td>Fußbodenheizung, offener</td>\n",
       "      <td>1295000.0</td>\n",
       "      <td>136.06</td>\n",
       "      <td>4.0</td>\n",
       "      <td>3.57</td>\n",
       "      <td>10405.0</td>\n",
       "      <td>1900.0</td>\n",
       "      <td>5.0</td>\n",
       "      <td>9517.859768</td>\n",
       "    </tr>\n",
       "    <tr>\n",
       "      <th>2</th>\n",
       "      <td>https://www.immowelt.de/expose/292m95u</td>\n",
       "      <td>Gas</td>\n",
       "      <td>Etagenheizung</td>\n",
       "      <td>770000.0</td>\n",
       "      <td>120.00</td>\n",
       "      <td>4.0</td>\n",
       "      <td>3.57</td>\n",
       "      <td>12161.0</td>\n",
       "      <td>1900.0</td>\n",
       "      <td>5.0</td>\n",
       "      <td>6416.666667</td>\n",
       "    </tr>\n",
       "    <tr>\n",
       "      <th>3</th>\n",
       "      <td>https://www.immowelt.de/expose/29sh55u</td>\n",
       "      <td>Gas</td>\n",
       "      <td>Zentralheizung</td>\n",
       "      <td>349000.0</td>\n",
       "      <td>158.00</td>\n",
       "      <td>5.0</td>\n",
       "      <td>3.57</td>\n",
       "      <td>12103.0</td>\n",
       "      <td>1956.0</td>\n",
       "      <td>1.0</td>\n",
       "      <td>2208.860759</td>\n",
       "    </tr>\n",
       "    <tr>\n",
       "      <th>4</th>\n",
       "      <td>https://www.immowelt.de/expose/29r5y5t</td>\n",
       "      <td>Gas</td>\n",
       "      <td>Etagenheizung</td>\n",
       "      <td>494990.0</td>\n",
       "      <td>126.00</td>\n",
       "      <td>4.0</td>\n",
       "      <td>3.57</td>\n",
       "      <td>12157.0</td>\n",
       "      <td>1909.0</td>\n",
       "      <td>3.0</td>\n",
       "      <td>3928.492063</td>\n",
       "    </tr>\n",
       "    <tr>\n",
       "      <th>...</th>\n",
       "      <td>...</td>\n",
       "      <td>...</td>\n",
       "      <td>...</td>\n",
       "      <td>...</td>\n",
       "      <td>...</td>\n",
       "      <td>...</td>\n",
       "      <td>...</td>\n",
       "      <td>...</td>\n",
       "      <td>...</td>\n",
       "      <td>...</td>\n",
       "      <td>...</td>\n",
       "    </tr>\n",
       "    <tr>\n",
       "      <th>4937</th>\n",
       "      <td>https://www.immowelt.de/expose/2gd5v4m</td>\n",
       "      <td>Fernwärme</td>\n",
       "      <td>Fußbodenheizung,</td>\n",
       "      <td>429000.0</td>\n",
       "      <td>78.00</td>\n",
       "      <td>3.0</td>\n",
       "      <td>3.57</td>\n",
       "      <td>13595.0</td>\n",
       "      <td>2000.0</td>\n",
       "      <td>1.0</td>\n",
       "      <td>5500.000000</td>\n",
       "    </tr>\n",
       "    <tr>\n",
       "      <th>4938</th>\n",
       "      <td>https://www.immowelt.de/expose/2ga5t4m</td>\n",
       "      <td>Gas</td>\n",
       "      <td>Zentralheizung</td>\n",
       "      <td>729000.0</td>\n",
       "      <td>150.00</td>\n",
       "      <td>4.0</td>\n",
       "      <td>3.57</td>\n",
       "      <td>13467.0</td>\n",
       "      <td>1990.0</td>\n",
       "      <td>1.0</td>\n",
       "      <td>4860.000000</td>\n",
       "    </tr>\n",
       "    <tr>\n",
       "      <th>4939</th>\n",
       "      <td>https://www.immowelt.de/expose/2f79g4a</td>\n",
       "      <td>Gas</td>\n",
       "      <td>Etagenheizung</td>\n",
       "      <td>695600.0</td>\n",
       "      <td>94.00</td>\n",
       "      <td>3.0</td>\n",
       "      <td>3.57</td>\n",
       "      <td>10115.0</td>\n",
       "      <td>1900.0</td>\n",
       "      <td>1.0</td>\n",
       "      <td>7400.000000</td>\n",
       "    </tr>\n",
       "    <tr>\n",
       "      <th>4940</th>\n",
       "      <td>https://www.immowelt.de/expose/2ej2m4d</td>\n",
       "      <td>Fernwärme</td>\n",
       "      <td>Minergie zertifiziert</td>\n",
       "      <td>839251.0</td>\n",
       "      <td>107.00</td>\n",
       "      <td>3.0</td>\n",
       "      <td>3.57</td>\n",
       "      <td>13591.0</td>\n",
       "      <td>1894.0</td>\n",
       "      <td>1.0</td>\n",
       "      <td>7843.467290</td>\n",
       "    </tr>\n",
       "    <tr>\n",
       "      <th>4941</th>\n",
       "      <td>https://www.immowelt.de/expose/263a44g</td>\n",
       "      <td>Öl</td>\n",
       "      <td>Zentralheizung</td>\n",
       "      <td>220000.0</td>\n",
       "      <td>125.06</td>\n",
       "      <td>3.0</td>\n",
       "      <td>3.57</td>\n",
       "      <td>13591.0</td>\n",
       "      <td>1986.0</td>\n",
       "      <td>2.0</td>\n",
       "      <td>1759.155605</td>\n",
       "    </tr>\n",
       "  </tbody>\n",
       "</table>\n",
       "<p>4942 rows × 11 columns</p>\n",
       "</div>"
      ],
      "text/plain": [
       "                                         url     energy  \\\n",
       "0     https://www.immowelt.de/expose/29fhx5b         Öl   \n",
       "1     https://www.immowelt.de/expose/29hzk5u        Gas   \n",
       "2     https://www.immowelt.de/expose/292m95u        Gas   \n",
       "3     https://www.immowelt.de/expose/29sh55u        Gas   \n",
       "4     https://www.immowelt.de/expose/29r5y5t        Gas   \n",
       "...                                      ...        ...   \n",
       "4937  https://www.immowelt.de/expose/2gd5v4m  Fernwärme   \n",
       "4938  https://www.immowelt.de/expose/2ga5t4m        Gas   \n",
       "4939  https://www.immowelt.de/expose/2f79g4a        Gas   \n",
       "4940  https://www.immowelt.de/expose/2ej2m4d  Fernwärme   \n",
       "4941  https://www.immowelt.de/expose/263a44g         Öl   \n",
       "\n",
       "                        heating      price    area  rooms   fee  zipcode  \\\n",
       "0                Zentralheizung   249000.0   64.00    3.0  3.57  13505.0   \n",
       "1     Fußbodenheizung, offener   1295000.0  136.06    4.0  3.57  10405.0   \n",
       "2                 Etagenheizung   770000.0  120.00    4.0  3.57  12161.0   \n",
       "3                Zentralheizung   349000.0  158.00    5.0  3.57  12103.0   \n",
       "4                 Etagenheizung   494990.0  126.00    4.0  3.57  12157.0   \n",
       "...                         ...        ...     ...    ...   ...      ...   \n",
       "4937          Fußbodenheizung,    429000.0   78.00    3.0  3.57  13595.0   \n",
       "4938             Zentralheizung   729000.0  150.00    4.0  3.57  13467.0   \n",
       "4939              Etagenheizung   695600.0   94.00    3.0  3.57  10115.0   \n",
       "4940      Minergie zertifiziert   839251.0  107.00    3.0  3.57  13591.0   \n",
       "4941             Zentralheizung   220000.0  125.06    3.0  3.57  13591.0   \n",
       "\n",
       "      construction_year  level  price_per_area  \n",
       "0                1971.0    2.0     3890.625000  \n",
       "1                1900.0    5.0     9517.859768  \n",
       "2                1900.0    5.0     6416.666667  \n",
       "3                1956.0    1.0     2208.860759  \n",
       "4                1909.0    3.0     3928.492063  \n",
       "...                 ...    ...             ...  \n",
       "4937             2000.0    1.0     5500.000000  \n",
       "4938             1990.0    1.0     4860.000000  \n",
       "4939             1900.0    1.0     7400.000000  \n",
       "4940             1894.0    1.0     7843.467290  \n",
       "4941             1986.0    2.0     1759.155605  \n",
       "\n",
       "[4942 rows x 11 columns]"
      ]
     },
     "execution_count": 2,
     "metadata": {},
     "output_type": "execute_result"
    }
   ],
   "source": [
    "df = pd.read_csv('../data/real_estate_listings.csv')\n",
    "df"
   ]
  },
  {
   "cell_type": "code",
   "execution_count": 3,
   "id": "3890a788-4d42-46fd-9cea-8090914ac9e3",
   "metadata": {},
   "outputs": [],
   "source": [
    "df.drop(['url'], axis = 1,inplace=True)"
   ]
  },
  {
   "cell_type": "code",
   "execution_count": 4,
   "id": "95041f18-7f63-437d-9dc1-58c00e2d5549",
   "metadata": {},
   "outputs": [],
   "source": [
    "cols = ['zipcode', 'rooms', 'level','construction_year','price']\n",
    "for col in cols:\n",
    "    df[col] = pd.to_numeric(df[col], errors='coerce').astype('Int64')"
   ]
  },
  {
   "cell_type": "code",
   "execution_count": 5,
   "id": "1aef90b8-8fa2-428e-8356-bdd196fe6f48",
   "metadata": {},
   "outputs": [
    {
     "name": "stdout",
     "output_type": "stream",
     "text": [
      "<class 'pandas.core.frame.DataFrame'>\n",
      "RangeIndex: 4942 entries, 0 to 4941\n",
      "Data columns (total 10 columns):\n",
      " #   Column             Non-Null Count  Dtype  \n",
      "---  ------             --------------  -----  \n",
      " 0   energy             4942 non-null   object \n",
      " 1   heating            4942 non-null   object \n",
      " 2   price              4942 non-null   Int64  \n",
      " 3   area               4942 non-null   float64\n",
      " 4   rooms              4942 non-null   Int64  \n",
      " 5   fee                4942 non-null   float64\n",
      " 6   zipcode            4942 non-null   Int64  \n",
      " 7   construction_year  4942 non-null   Int64  \n",
      " 8   level              4942 non-null   Int64  \n",
      " 9   price_per_area     4942 non-null   float64\n",
      "dtypes: Int64(5), float64(3), object(2)\n",
      "memory usage: 410.4+ KB\n"
     ]
    }
   ],
   "source": [
    "df.info()"
   ]
  },
  {
   "cell_type": "code",
   "execution_count": 6,
   "id": "318f3d26-ee2a-4b67-820c-af51344159aa",
   "metadata": {},
   "outputs": [
    {
     "data": {
      "text/html": [
       "<div>\n",
       "<style scoped>\n",
       "    .dataframe tbody tr th:only-of-type {\n",
       "        vertical-align: middle;\n",
       "    }\n",
       "\n",
       "    .dataframe tbody tr th {\n",
       "        vertical-align: top;\n",
       "    }\n",
       "\n",
       "    .dataframe thead th {\n",
       "        text-align: right;\n",
       "    }\n",
       "</style>\n",
       "<table border=\"1\" class=\"dataframe\">\n",
       "  <thead>\n",
       "    <tr style=\"text-align: right;\">\n",
       "      <th></th>\n",
       "      <th>energy</th>\n",
       "      <th>heating</th>\n",
       "      <th>price</th>\n",
       "      <th>area</th>\n",
       "      <th>rooms</th>\n",
       "      <th>fee</th>\n",
       "      <th>zipcode</th>\n",
       "      <th>construction_year</th>\n",
       "      <th>level</th>\n",
       "      <th>price_per_area</th>\n",
       "    </tr>\n",
       "  </thead>\n",
       "  <tbody>\n",
       "    <tr>\n",
       "      <th>0</th>\n",
       "      <td>Öl</td>\n",
       "      <td>Zentralheizung</td>\n",
       "      <td>249000</td>\n",
       "      <td>64.00</td>\n",
       "      <td>3</td>\n",
       "      <td>3.57</td>\n",
       "      <td>13505</td>\n",
       "      <td>1971</td>\n",
       "      <td>2</td>\n",
       "      <td>3890.625000</td>\n",
       "    </tr>\n",
       "    <tr>\n",
       "      <th>1</th>\n",
       "      <td>Gas</td>\n",
       "      <td>Fußbodenheizung, offener</td>\n",
       "      <td>1295000</td>\n",
       "      <td>136.06</td>\n",
       "      <td>4</td>\n",
       "      <td>3.57</td>\n",
       "      <td>10405</td>\n",
       "      <td>1900</td>\n",
       "      <td>5</td>\n",
       "      <td>9517.859768</td>\n",
       "    </tr>\n",
       "    <tr>\n",
       "      <th>2</th>\n",
       "      <td>Gas</td>\n",
       "      <td>Etagenheizung</td>\n",
       "      <td>770000</td>\n",
       "      <td>120.00</td>\n",
       "      <td>4</td>\n",
       "      <td>3.57</td>\n",
       "      <td>12161</td>\n",
       "      <td>1900</td>\n",
       "      <td>5</td>\n",
       "      <td>6416.666667</td>\n",
       "    </tr>\n",
       "    <tr>\n",
       "      <th>3</th>\n",
       "      <td>Gas</td>\n",
       "      <td>Zentralheizung</td>\n",
       "      <td>349000</td>\n",
       "      <td>158.00</td>\n",
       "      <td>5</td>\n",
       "      <td>3.57</td>\n",
       "      <td>12103</td>\n",
       "      <td>1956</td>\n",
       "      <td>1</td>\n",
       "      <td>2208.860759</td>\n",
       "    </tr>\n",
       "    <tr>\n",
       "      <th>4</th>\n",
       "      <td>Gas</td>\n",
       "      <td>Etagenheizung</td>\n",
       "      <td>494990</td>\n",
       "      <td>126.00</td>\n",
       "      <td>4</td>\n",
       "      <td>3.57</td>\n",
       "      <td>12157</td>\n",
       "      <td>1909</td>\n",
       "      <td>3</td>\n",
       "      <td>3928.492063</td>\n",
       "    </tr>\n",
       "  </tbody>\n",
       "</table>\n",
       "</div>"
      ],
      "text/plain": [
       "  energy                    heating    price    area  rooms   fee  zipcode  \\\n",
       "0     Öl             Zentralheizung   249000   64.00      3  3.57    13505   \n",
       "1    Gas  Fußbodenheizung, offener   1295000  136.06      4  3.57    10405   \n",
       "2    Gas              Etagenheizung   770000  120.00      4  3.57    12161   \n",
       "3    Gas             Zentralheizung   349000  158.00      5  3.57    12103   \n",
       "4    Gas              Etagenheizung   494990  126.00      4  3.57    12157   \n",
       "\n",
       "   construction_year  level  price_per_area  \n",
       "0               1971      2     3890.625000  \n",
       "1               1900      5     9517.859768  \n",
       "2               1900      5     6416.666667  \n",
       "3               1956      1     2208.860759  \n",
       "4               1909      3     3928.492063  "
      ]
     },
     "execution_count": 6,
     "metadata": {},
     "output_type": "execute_result"
    }
   ],
   "source": [
    "df.head()"
   ]
  },
  {
   "cell_type": "code",
   "execution_count": 7,
   "id": "7650f8f1-b93e-4cb9-8375-ece479c5957b",
   "metadata": {},
   "outputs": [
    {
     "name": "stdout",
     "output_type": "stream",
     "text": [
      "energy               0\n",
      "heating              0\n",
      "price                0\n",
      "area                 0\n",
      "rooms                0\n",
      "fee                  0\n",
      "zipcode              0\n",
      "construction_year    0\n",
      "level                0\n",
      "price_per_area       0\n",
      "dtype: int64\n"
     ]
    }
   ],
   "source": [
    "print(df.isnull().sum())\n"
   ]
  },
  {
   "cell_type": "code",
   "execution_count": 8,
   "id": "eb20cd1d-b748-47a8-a648-1545eabb0d60",
   "metadata": {},
   "outputs": [],
   "source": [
    "df = df[(df['price'] > 0) & (df['area'] > 0)]\n"
   ]
  },
  {
   "cell_type": "code",
   "execution_count": 9,
   "id": "4cae6d83-8fde-43e3-9f0d-5baf8eb912dc",
   "metadata": {},
   "outputs": [
    {
     "name": "stdout",
     "output_type": "stream",
     "text": [
      "<class 'pandas.core.frame.DataFrame'>\n",
      "RangeIndex: 4942 entries, 0 to 4941\n",
      "Data columns (total 10 columns):\n",
      " #   Column             Non-Null Count  Dtype  \n",
      "---  ------             --------------  -----  \n",
      " 0   energy             4942 non-null   object \n",
      " 1   heating            4942 non-null   object \n",
      " 2   price              4942 non-null   Int64  \n",
      " 3   area               4942 non-null   float64\n",
      " 4   rooms              4942 non-null   Int64  \n",
      " 5   fee                4942 non-null   float64\n",
      " 6   zipcode            4942 non-null   Int64  \n",
      " 7   construction_year  4942 non-null   Int64  \n",
      " 8   level              4942 non-null   Int64  \n",
      " 9   price_per_area     4942 non-null   float64\n",
      "dtypes: Int64(5), float64(3), object(2)\n",
      "memory usage: 410.4+ KB\n"
     ]
    }
   ],
   "source": [
    "df.info()"
   ]
  },
  {
   "cell_type": "code",
   "execution_count": 10,
   "id": "288087f8-b446-4e4e-baed-2a6193393a57",
   "metadata": {},
   "outputs": [],
   "source": [
    "df = df.drop_duplicates()"
   ]
  },
  {
   "cell_type": "code",
   "execution_count": 11,
   "id": "e1b4da3d-ca1a-4395-b6de-ed51ad545f37",
   "metadata": {},
   "outputs": [
    {
     "name": "stdout",
     "output_type": "stream",
     "text": [
      "     energy heating   price   area  rooms  fee  zipcode  construction_year  \\\n",
      "2181     na      na  230000  66.78      2 -3.5    12043               1900   \n",
      "\n",
      "      level  price_per_area  \n",
      "2181      1     3444.144954  \n"
     ]
    }
   ],
   "source": [
    "neg_price = df[df['fee'] < 0]\n",
    "print(neg_price)\n"
   ]
  },
  {
   "cell_type": "code",
   "execution_count": 12,
   "id": "65e7fbcd-4f7e-4939-8529-1d5f52bb904d",
   "metadata": {},
   "outputs": [],
   "source": [
    "df = df[df['fee'] >= 0]\n"
   ]
  },
  {
   "cell_type": "code",
   "execution_count": 13,
   "id": "c4739093-c1bb-4694-b424-17fc92dda188",
   "metadata": {},
   "outputs": [
    {
     "name": "stdout",
     "output_type": "stream",
     "text": [
      "['Zentralheizung' 'Fußbodenheizung, offener ' 'Etagenheizung' 'na'\n",
      " 'Fußbodenheizung, ' 'Kamin, ' 'Fußbodenheizung' 'Heizungsart' 'Wasser-'\n",
      " 'Kf' 'Luft-/' 'Kamin' 'Wärmepumpe' 'Niedrigenergiehaus' 'Etagenheizung, '\n",
      " 'Ofen, ' 'Etagenheizung, offener ' 'Wärmepumpe, ' 'Fertighaus'\n",
      " 'Wärmepumpe, offener ' 'Kohle, ' 'Heizungsartoffener '\n",
      " 'Minergie zertifiziert']\n"
     ]
    }
   ],
   "source": [
    "print(df['heating'].unique())"
   ]
  },
  {
   "cell_type": "code",
   "execution_count": 14,
   "id": "a30f4983-98ae-421f-baeb-5ac5d70eb67a",
   "metadata": {},
   "outputs": [],
   "source": [
    "df['heating_raw'] = df['heating']"
   ]
  },
  {
   "cell_type": "code",
   "execution_count": 15,
   "id": "1c378b59-c2a8-4039-818c-3963e7bea6de",
   "metadata": {},
   "outputs": [],
   "source": [
    "df['heating_clean'] = (\n",
    "    df['heating_raw']\n",
    "    .str.lower()\n",
    "    .str.strip()\n",
    "    .str.replace(r',$', '', regex=True)\n",
    "    .str.strip()\n",
    ")"
   ]
  },
  {
   "cell_type": "code",
   "execution_count": 16,
   "id": "93fe327d-dd42-45b0-901c-d9c864f31834",
   "metadata": {},
   "outputs": [],
   "source": [
    "heating_map = {\n",
    "    'zentralheizung': 'zentralheizung',\n",
    "    'fußbodenheizung': 'fußbodenheizung',\n",
    "    'fußbodenheizung offener': 'fußbodenheizung',\n",
    "    'fußbodenheizung, offener':'fußbodenheizung',\n",
    "    'fußbodenheizung':'fußbodenheizung',\n",
    "    'etagenheizung': 'etagenheizung',\n",
    "    'etagenheizung offener': 'etagenheizung',\n",
    "    'kamin': 'kamin',\n",
    "    'kohle': 'kohle',\n",
    "    'wärmepumpe': 'wärmepumpe',\n",
    "    'wärmepumpe, offener' : 'wärmepumpe',\n",
    "    'minergie zertifiziert': 'minergie',\n",
    "    'etagenheizung, offener' : 'etagenheizung',\n",
    "\n",
    "    'kamin':'other',\n",
    "    'wärmepumpe':'other',\n",
    "    'kf':'other',\n",
    "    'minergie':'other',\n",
    "    'ofen':'other',\n",
    "    'kohle':'other',\n",
    "    'fertighaus': 'other',\n",
    "    'niedrigenergiehaus': 'other',\n",
    "    'wasser-': 'other',\n",
    "    'k f': 'kf',\n",
    "    'luft-/': 'other',\n",
    "    'heizungsart': 'other',\n",
    "    'heizungsartoffener': 'other',\n",
    "    'na': 'missing'\n",
    "}\n",
    "df['heating_clean'] = df['heating_clean'].replace(heating_map)\n"
   ]
  },
  {
   "cell_type": "code",
   "execution_count": 17,
   "id": "114a5a80-24a5-443e-b5e5-4cc2dfdd4bfa",
   "metadata": {},
   "outputs": [
    {
     "name": "stdout",
     "output_type": "stream",
     "text": [
      "['zentralheizung' 'fußbodenheizung' 'etagenheizung' 'missing' 'other'\n",
      " 'wärmepumpe' 'minergie']\n"
     ]
    }
   ],
   "source": [
    "print(df['heating_clean'].unique())"
   ]
  },
  {
   "cell_type": "code",
   "execution_count": 18,
   "id": "f7a0879b-3efa-4733-9bde-e6bca0a91faa",
   "metadata": {},
   "outputs": [
    {
     "name": "stdout",
     "output_type": "stream",
     "text": [
      "7\n"
     ]
    }
   ],
   "source": [
    "print(df['heating_clean'].nunique())"
   ]
  },
  {
   "cell_type": "code",
   "execution_count": 44,
   "id": "51622742-0abb-47f5-a330-f1f87082781e",
   "metadata": {},
   "outputs": [
    {
     "name": "stdout",
     "output_type": "stream",
     "text": [
      "Index(['energy', 'heating', 'price', 'area', 'rooms', 'fee', 'zipcode',\n",
      "       'construction_year', 'level', 'price_per_area', 'heating_raw',\n",
      "       'heating_clean'],\n",
      "      dtype='object')\n"
     ]
    }
   ],
   "source": [
    "print(df.columns)"
   ]
  },
  {
   "cell_type": "code",
   "execution_count": 19,
   "id": "1e4f98fe-ce50-4306-b98b-ac6fb9d5b674",
   "metadata": {},
   "outputs": [
    {
     "name": "stdout",
     "output_type": "stream",
     "text": [
      "heating_clean\n",
      "zentralheizung     1733\n",
      "missing            1723\n",
      "etagenheizung       360\n",
      "fußbodenheizung     312\n",
      "other               193\n",
      "minergie              2\n",
      "wärmepumpe            1\n",
      "Name: count, dtype: int64\n"
     ]
    }
   ],
   "source": [
    "print(df['heating_clean'].value_counts())"
   ]
  },
  {
   "cell_type": "code",
   "execution_count": 56,
   "id": "d0a1f6f5-0c8c-4fc2-b2da-2bb70b158190",
   "metadata": {},
   "outputs": [
    {
     "data": {
      "text/plain": [
       "array(['öl', 'gas', 'na', 'fernwärme', 'elektro', 'fußbodenheizung',\n",
       "       'flüssiggas', 'luft-/', 'blockheizkraftwerk', 'holz', 'erdwärme',\n",
       "       'solar', 'niedrigenergiehaus', 'pellets',\n",
       "       'fußbodenheizung, offener'], dtype=object)"
      ]
     },
     "execution_count": 56,
     "metadata": {},
     "output_type": "execute_result"
    }
   ],
   "source": [
    "df['energy_clean'].unique()"
   ]
  },
  {
   "cell_type": "code",
   "execution_count": null,
   "id": "196be226-009b-42a4-88d7-64a399af3dc3",
   "metadata": {},
   "outputs": [],
   "source": []
  },
  {
   "cell_type": "code",
   "execution_count": 48,
   "id": "a96a6353-4204-4389-9eb3-bba159855b76",
   "metadata": {},
   "outputs": [
    {
     "name": "stdout",
     "output_type": "stream",
     "text": [
      "['Öl' 'Gas' 'na' 'Fernwärme' 'Fernwärme, ' 'Elektro' 'Elektro, ' 'Gas, '\n",
      " 'Fußbodenheizung, ' 'Flüssiggas' 'Luft-/' 'Blockheizkraftwerk, ' 'Holz, '\n",
      " 'Erdwärme' 'Solar' 'Niedrigenergiehaus' 'Pellets' 'Blockheizkraftwerk'\n",
      " 'Erdwärme, ' 'Fußbodenheizung, offener ']\n"
     ]
    }
   ],
   "source": []
  },
  {
   "cell_type": "code",
   "execution_count": 52,
   "id": "8ff9c6b6-62f7-4471-90b3-e6ceb238d901",
   "metadata": {},
   "outputs": [],
   "source": [
    "df['energy_clean'] = (\n",
    "    df['energy']\n",
    "    .str.lower()\n",
    "    .str.strip()\n",
    "    .str.replace(r',$', '', regex=True)\n",
    "    .str.strip()\n",
    ")"
   ]
  },
  {
   "cell_type": "code",
   "execution_count": 110,
   "id": "b324eee4-6719-494e-97e8-61ede35f3f87",
   "metadata": {},
   "outputs": [],
   "source": [
    "energy_map = {\n",
    "    'öl': 'öl',\n",
    "    'gas': 'gas',\n",
    "    'elektro': 'elektro',\n",
    "    'flüssiggas': 'flüssiggas',\n",
    "    'blockheizkraftwerk': 'blockheizkraftwerk',\n",
    "    'holz': 'holz',\n",
    "    'erdwärme': 'erdwärme',\n",
    "    'solar': 'solar',\n",
    "    'pellets': 'pellets',\n",
    "    'fernwärme': 'fernwärme',\n",
    "\n",
    "    'luft-/': 'other',  # unclear category, group as other\n",
    "    'niedrigenergiehaus': 'other',  # building type, not energy source\n",
    "    'fußbodenheizung': 'other',  # heating type, not energy source\n",
    "    'fußbodenheizung, offener': 'other', \n",
    "    'na': 'missing',\n",
    "    '': 'missing',\n",
    "    None: 'missing'\n",
    "}\n",
    "\n",
    "\n",
    "df['energy_clean'] = df['energy_clean'].str.lower().str.strip().str.rstrip(',')\n",
    "df['energy_clean'] = df['energy_clean'].replace(heating_map)"
   ]
  },
  {
   "cell_type": "code",
   "execution_count": 112,
   "id": "1b796083-3b95-4d99-a8f9-918074ca40f7",
   "metadata": {},
   "outputs": [
    {
     "name": "stdout",
     "output_type": "stream",
     "text": [
      "['öl' 'gas' 'missing' 'fernwärme' 'elektro' 'fußbodenheizung' 'flüssiggas'\n",
      " 'other' 'blockheizkraftwerk' 'holz' 'erdwärme' 'solar' 'pellets']\n"
     ]
    }
   ],
   "source": [
    "print(df['energy_clean'].unique())"
   ]
  },
  {
   "cell_type": "code",
   "execution_count": 92,
   "id": "ead2be9b-0978-4eb6-befb-e3f5ebfd643f",
   "metadata": {},
   "outputs": [
    {
     "name": "stdout",
     "output_type": "stream",
     "text": [
      "13\n"
     ]
    }
   ],
   "source": [
    "print(df['energy_clean'].nunique())"
   ]
  },
  {
   "cell_type": "code",
   "execution_count": 104,
   "id": "7a90785d-cd3c-45db-a08e-df20857874af",
   "metadata": {},
   "outputs": [
    {
     "name": "stdout",
     "output_type": "stream",
     "text": [
      "energy_clean\n",
      "missing               1723\n",
      "gas                   1345\n",
      "fernwärme              747\n",
      "öl                     390\n",
      "elektro                 38\n",
      "fußbodenheizung         25\n",
      "other                   19\n",
      "blockheizkraftwerk      13\n",
      "solar                   12\n",
      "erdwärme                 6\n",
      "pellets                  3\n",
      "flüssiggas               2\n",
      "holz                     1\n",
      "Name: count, dtype: int64\n"
     ]
    }
   ],
   "source": [
    "print(df['energy_clean'].value_counts())"
   ]
  },
  {
   "cell_type": "code",
   "execution_count": 114,
   "id": "9a00153f-685a-43e0-abaf-7820bc3a0209",
   "metadata": {},
   "outputs": [
    {
     "name": "stdout",
     "output_type": "stream",
     "text": [
      "['fußbodenheizung']\n"
     ]
    }
   ],
   "source": [
    "print(df.loc[df['energy_clean'].str.contains('fußbodenheizung', na=False), 'energy_clean'].unique())\n"
   ]
  },
  {
   "cell_type": "code",
   "execution_count": 116,
   "id": "f073e565-ffcc-400f-8005-39fb1b86587f",
   "metadata": {},
   "outputs": [],
   "source": [
    "df.loc[df['energy_clean'].str.contains('fußbodenheizung', na=False), 'energy_clean'] = 'other'\n"
   ]
  },
  {
   "cell_type": "code",
   "execution_count": 118,
   "id": "badb58e0-de29-4c90-8ab7-0efca975e4d9",
   "metadata": {},
   "outputs": [
    {
     "name": "stdout",
     "output_type": "stream",
     "text": [
      "['öl' 'gas' 'missing' 'fernwärme' 'elektro' 'other' 'flüssiggas'\n",
      " 'blockheizkraftwerk' 'holz' 'erdwärme' 'solar' 'pellets']\n"
     ]
    }
   ],
   "source": [
    "print(df['energy_clean'].unique())"
   ]
  },
  {
   "cell_type": "code",
   "execution_count": 120,
   "id": "a95d37e5-c89b-4c43-b0c1-2aa80420b583",
   "metadata": {},
   "outputs": [
    {
     "name": "stdout",
     "output_type": "stream",
     "text": [
      "12\n"
     ]
    }
   ],
   "source": [
    "print(df['energy_clean'].nunique())"
   ]
  },
  {
   "cell_type": "code",
   "execution_count": 122,
   "id": "0699fda9-aad9-4fdb-9c7f-544d5d0e925d",
   "metadata": {},
   "outputs": [
    {
     "name": "stdout",
     "output_type": "stream",
     "text": [
      "energy_clean\n",
      "missing               1723\n",
      "gas                   1345\n",
      "fernwärme              747\n",
      "öl                     390\n",
      "other                   44\n",
      "elektro                 38\n",
      "blockheizkraftwerk      13\n",
      "solar                   12\n",
      "erdwärme                 6\n",
      "pellets                  3\n",
      "flüssiggas               2\n",
      "holz                     1\n",
      "Name: count, dtype: int64\n"
     ]
    }
   ],
   "source": [
    "print(df['energy_clean'].value_counts())"
   ]
  },
  {
   "cell_type": "code",
   "execution_count": 124,
   "id": "1eccc4e4-d4c9-4fb9-b10e-ec803fe35924",
   "metadata": {},
   "outputs": [],
   "source": [
    "threshold = 50\n",
    "counts = df['energy_clean'].value_counts()\n",
    "rare_categories = counts[counts < threshold].index\n",
    "df['energy_clean'] = df['energy_clean'].replace(rare_categories, 'other')"
   ]
  },
  {
   "cell_type": "code",
   "execution_count": 126,
   "id": "a3f95085-1547-4feb-8ad6-065902bf9933",
   "metadata": {},
   "outputs": [
    {
     "name": "stdout",
     "output_type": "stream",
     "text": [
      "energy_clean\n",
      "missing      1723\n",
      "gas          1345\n",
      "fernwärme     747\n",
      "öl            390\n",
      "other         119\n",
      "Name: count, dtype: int64\n"
     ]
    }
   ],
   "source": [
    "print(df['energy_clean'].value_counts())"
   ]
  },
  {
   "cell_type": "code",
   "execution_count": null,
   "id": "cd0d20b4-181a-4846-bcb2-cbce4b296853",
   "metadata": {},
   "outputs": [],
   "source": []
  }
 ],
 "metadata": {
  "kernelspec": {
   "display_name": "Python [conda env:base] *",
   "language": "python",
   "name": "conda-base-py"
  },
  "language_info": {
   "codemirror_mode": {
    "name": "ipython",
    "version": 3
   },
   "file_extension": ".py",
   "mimetype": "text/x-python",
   "name": "python",
   "nbconvert_exporter": "python",
   "pygments_lexer": "ipython3",
   "version": "3.12.7"
  }
 },
 "nbformat": 4,
 "nbformat_minor": 5
}
